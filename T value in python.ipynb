{
 "cells": [
  {
   "cell_type": "code",
   "execution_count": 2,
   "id": "dcae0cb4",
   "metadata": {},
   "outputs": [
    {
     "data": {
      "text/plain": [
       "2.059538552753294"
      ]
     },
     "execution_count": 2,
     "metadata": {},
     "output_type": "execute_result"
    }
   ],
   "source": [
    "import scipy.stats\n",
    "scipy.stats.t.ppf(q=0.975 , df=25)"
   ]
  },
  {
   "cell_type": "code",
   "execution_count": 3,
   "id": "aa336eb6",
   "metadata": {},
   "outputs": [
    {
     "data": {
      "text/plain": [
       "2.1665866344527562"
      ]
     },
     "execution_count": 3,
     "metadata": {},
     "output_type": "execute_result"
    }
   ],
   "source": [
    "import scipy.stats\n",
    "scipy.stats.t.ppf(q=0.98 , df=25)"
   ]
  },
  {
   "cell_type": "code",
   "execution_count": 4,
   "id": "6fe0ab28",
   "metadata": {},
   "outputs": [
    {
     "data": {
      "text/plain": [
       "2.787435813675851"
      ]
     },
     "execution_count": 4,
     "metadata": {},
     "output_type": "execute_result"
    }
   ],
   "source": [
    "import scipy.stats\n",
    "scipy.stats.t.ppf(q=0.995 , df=25)"
   ]
  },
  {
   "cell_type": "code",
   "execution_count": null,
   "id": "7624e64b",
   "metadata": {},
   "outputs": [],
   "source": []
  }
 ],
 "metadata": {
  "kernelspec": {
   "display_name": "Python 3",
   "language": "python",
   "name": "python3"
  },
  "language_info": {
   "codemirror_mode": {
    "name": "ipython",
    "version": 3
   },
   "file_extension": ".py",
   "mimetype": "text/x-python",
   "name": "python",
   "nbconvert_exporter": "python",
   "pygments_lexer": "ipython3",
   "version": "3.8.8"
  }
 },
 "nbformat": 4,
 "nbformat_minor": 5
}
